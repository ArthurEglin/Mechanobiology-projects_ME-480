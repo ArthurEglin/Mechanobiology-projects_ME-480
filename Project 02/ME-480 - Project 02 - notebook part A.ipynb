{
 "cells": [
  {
   "cell_type": "code",
   "execution_count": 1,
   "metadata": {},
   "outputs": [],
   "source": [
    "import cv2\n",
    "import numpy as np\n",
    "from tqdm import tqdm"
   ]
  },
  {
   "cell_type": "markdown",
   "metadata": {},
   "source": [
    "Open the video file, get the frame dimensions and frame rate"
   ]
  },
  {
   "cell_type": "code",
   "execution_count": 14,
   "metadata": {},
   "outputs": [
    {
     "name": "stdout",
     "output_type": "stream",
     "text": [
      "356953\n"
     ]
    }
   ],
   "source": [
    "cap = cv2.VideoCapture(\"CellA_noDoxycycline.avi\")\n",
    "\n",
    "# Get properties of the video\n",
    "frame_width = int(cap.get(cv2.CAP_PROP_FRAME_WIDTH))\n",
    "frame_height = int(cap.get(cv2.CAP_PROP_FRAME_HEIGHT))\n",
    "fps = cap.get(cv2.CAP_PROP_FPS)\n",
    "length = int(cap.get(cv2.CAP_PROP_FRAME_COUNT))\n",
    "print(length)"
   ]
  },
  {
   "cell_type": "code",
   "execution_count": 4,
   "metadata": {},
   "outputs": [],
   "source": [
    "processed_movie = []\n",
    "ret = True\n",
    "while ret:\n",
    "    ret, frame = cap.read()\n",
    "    if not ret:\n",
    "        break\n",
    "    \n",
    "    # Convert frame to grayscale\n",
    "    gray_frame = cv2.cvtColor(frame, cv2.COLOR_BGR2GRAY)\n",
    "    \n",
    "    # Crop the frame 20% from left and right\n",
    "    crop_width = int(frame_width * 0.2)\n",
    "    cropped_frame = gray_frame[:, crop_width:-crop_width]\n",
    "\n",
    "    # Apply thresholding\n",
    "    mask = cropped_frame > 150 # threshold seems to be good, but could improve\n",
    "    mask = mask.astype(np.uint8)\n",
    "    \n",
    "    if np.sum(mask) > 20:\n",
    "        processed_movie.append(frame)\n",
    "    \n",
    "cv2.destroyAllWindows()"
   ]
  },
  {
   "cell_type": "code",
   "execution_count": 10,
   "metadata": {},
   "outputs": [
    {
     "data": {
      "text/plain": [
       "(21438, 256, 128, 3)"
      ]
     },
     "execution_count": 10,
     "metadata": {},
     "output_type": "execute_result"
    }
   ],
   "source": [
    "cap.release()\n",
    "processed_movie = np.array(processed_movie)\n",
    "processed_movie.shape\n"
   ]
  },
  {
   "cell_type": "code",
   "execution_count": 6,
   "metadata": {},
   "outputs": [],
   "source": [
    "# play the video (press q to quit at any time)\n",
    "def play_video(vid):\n",
    "    for idx in range(vid.shape[0]):\n",
    "        cv2.imshow('video', np.array(vid[idx,...], dtype=np.uint8))\n",
    "        if cv2.waitKey(100) & 0xFF == ord('q'):\n",
    "            break\n",
    "\n",
    "    cv2.destroyAllWindows()"
   ]
  },
  {
   "cell_type": "code",
   "execution_count": 7,
   "metadata": {},
   "outputs": [],
   "source": [
    "play_video(processed_movie)"
   ]
  },
  {
   "cell_type": "code",
   "execution_count": 13,
   "metadata": {},
   "outputs": [],
   "source": [
    "out = cv2.VideoWriter('output.avi', cv2.VideoWriter_fourcc(*\"MJPG\"), fps, (frame_width,frame_height))\n",
    "\n",
    "for i in processed_movie:\n",
    "\n",
    "    out.write(i)\n",
    "\n",
    "out.release()\n"
   ]
  }
 ],
 "metadata": {
  "kernelspec": {
   "display_name": "mechanobiology",
   "language": "python",
   "name": "python3"
  },
  "language_info": {
   "codemirror_mode": {
    "name": "ipython",
    "version": 3
   },
   "file_extension": ".py",
   "mimetype": "text/x-python",
   "name": "python",
   "nbconvert_exporter": "python",
   "pygments_lexer": "ipython3",
   "version": "3.12.0"
  }
 },
 "nbformat": 4,
 "nbformat_minor": 2
}
