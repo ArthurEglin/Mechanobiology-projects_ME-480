{
 "cells": [
  {
   "cell_type": "code",
   "execution_count": 1,
   "metadata": {},
   "outputs": [],
   "source": [
    "import cv2\n",
    "import numpy as np\n",
    "from tqdm import tqdm\n",
    "import time\n",
    "import matplotlib.pyplot as plt\n",
    "import pandas as pd"
   ]
  },
  {
   "cell_type": "code",
   "execution_count": 2,
   "metadata": {},
   "outputs": [],
   "source": [
    "# video paths\n",
    "CellA_GFP = './CellA_GFP.avi'\n",
    "CellA_ShME480 = \"./CellA_ShME480.avi\"\n",
    "CellB_GFP = './CellB_GFP.avi'\n",
    "CellB_ME480 = './CellB_ME480.avi'\n"
   ]
  },
  {
   "cell_type": "code",
   "execution_count": 250,
   "metadata": {},
   "outputs": [],
   "source": [
    "def process_video(video_path, display_video=False, display_velocity=50):\n",
    "    cap = cv2.VideoCapture(video_path)\n",
    "    \n",
    "    # Get properties of the video\n",
    "    frame_width = int(cap.get(cv2.CAP_PROP_FRAME_WIDTH))\n",
    "    frame_height = int(cap.get(cv2.CAP_PROP_FRAME_HEIGHT))\n",
    "\n",
    "    ret = True\n",
    "    frame_count = 1\n",
    "    # create an empty dataframe to store the results\n",
    "    table = pd.DataFrame(columns=['area', 'perimeter', 'major_axis', 'minor_axis', 'angle', 'circularity', 'aspect_ratio', 'roundness', 'solidity'])\n",
    "    black = np.zeros((frame_height, 10, 3), np.uint8)\n",
    "    text_screen = np.ones((frame_height, 160, 3), np.uint8)*255\n",
    "    while ret:\n",
    "        ret, frame = cap.read()\n",
    "        if not ret:\n",
    "            break\n",
    "\n",
    "        # Convert frame to grayscale\n",
    "        crop_width = int(frame_width * 0.20)\n",
    "        gray_frame = cv2.cvtColor(frame, cv2.COLOR_BGR2GRAY)\n",
    "        #gray_frame = gray_frame[:, crop_width:-crop_width]\n",
    "        blur = cv2.GaussianBlur(gray_frame, (5,5),0)\n",
    "    \n",
    "        # Apply thresholding\n",
    "        h, mask = cv2.threshold(blur, 128, 255, cv2.THRESH_BINARY+cv2.THRESH_OTSU)\n",
    "        \n",
    "        # apply erosion to fill in the holes\n",
    "        kernel = np.ones((7, 7),np.uint8)\n",
    "        mask = cv2.erode(mask,kernel,iterations = 2)\n",
    "        mask = cv2.dilate(mask,kernel,iterations = 2)\n",
    "        mask = cv2.bitwise_not(mask)\n",
    "        mask = mask[:, crop_width:-crop_width]\n",
    "\n",
    "        contours1, hierarchy = cv2.findContours(mask, cv2.RETR_EXTERNAL, cv2.CHAIN_APPROX_SIMPLE)\n",
    "\n",
    "        x_offset, y_offset = crop_width, 0\n",
    "        contours = []\n",
    "        for i, cont in enumerate(contours1):\n",
    "            contours.append( cont + (x_offset, y_offset))\n",
    "\n",
    "        # we select only frames with 2 contours (1 for the frame frame_countour, and 1 for the cell contour)\n",
    "        if len(contours) > 0:\n",
    "            gray_frame = cv2.cvtColor(gray_frame, cv2.COLOR_GRAY2BGR)\n",
    "            # sort the contours by size to have the frame contour first, cell contour will always be smaller\n",
    "            cnt = sorted(contours, key=cv2.contourArea, reverse=True) \n",
    "            \n",
    "            # select the cell contour by size to get rid of noisy contours\n",
    "            if  cv2.contourArea(cnt[0]) > 300 and cv2.contourArea(cnt[0]) < 9000:\n",
    "                \n",
    "                # contourIdx allows to choose the contour to draw\n",
    "                cv2.drawContours(gray_frame, cnt, -1, color=(0,255,0), thickness=1)\n",
    "\n",
    "                # fit an ellipse to the contour and draw it\n",
    "                ellipse = cv2.fitEllipse(cnt[0])\n",
    "                (xc, yc), (d1, d2), angle = ellipse\n",
    "                \n",
    "                # add the ellipse parameters to the dataframe\n",
    "                columns=['area', 'perimeter', 'major_axis', 'minor_axis', 'angle', 'circularity', 'aspect_ratio', 'roundness', 'solidity']\n",
    "                table.loc[frame_count] = [cv2.contourArea(cnt[0]), cv2.arcLength(cnt[0], True), max(d1,d2), min(d1,d2), angle, 4*np.pi*cv2.contourArea(cnt[0])/(cv2.arcLength(cnt[0], True)**2), max(d1,d2)/min(d1,d2), 4*cv2.contourArea(cnt[0])/(np.pi*max(d1,d2)**2), cv2.contourArea(cnt[0])/cv2.contourArea(cv2.convexHull(cnt[0]))]\n",
    "           \n",
    "\n",
    "                if display_video:\n",
    "                    # draw the ellipse on the gray frame\n",
    "                    cv2.ellipse(gray_frame, ellipse, (0,0,255), 1)\n",
    "\n",
    "                    # transform mask to 3 channels to concatenate it with the frame\n",
    "                    mask = cv2.cvtColor(mask, cv2.COLOR_GRAY2BGR)\n",
    "                    \n",
    "                    # Display the resulting frames mask and gray_frame in the same window \n",
    "                    display = np.concatenate((text_screen, black, frame, black, mask, black, gray_frame), axis=1)\n",
    "\n",
    "                    # add a text to the image\n",
    "                    font = cv2.FONT_HERSHEY_SIMPLEX\n",
    "                    cv2.putText(display, 'frame {}'.format(frame_count), (10, 20), font, 0.5, (0,0,0), 1, cv2.LINE_AA)\n",
    "                    cv2.putText(display, 'area: {:.2f}'.format(cv2.contourArea(cnt[0])), (10, 40), font, 0.5, (0,0,0), 1, cv2.LINE_AA)\n",
    "                    cv2.putText(display, 'perimeter: {:.2f}'.format(cv2.arcLength(cnt[0], True)), (10, 60), font, 0.5, (0,0,0), 1, cv2.LINE_AA)\n",
    "                    cv2.putText(display, 'major_axis: {:.2f}'.format(max(d1,d2)), (10, 80), font, 0.5, (0,0,0), 1, cv2.LINE_AA)\n",
    "                    cv2.putText(display, 'minor_axis: {:.2f}'.format(min(d1,d2)), (10, 100), font, 0.5, (0,0,0), 1, cv2.LINE_AA)\n",
    "                    cv2.putText(display, 'angle: {:.2f}'.format(angle), (10, 120), font, 0.5, (0,0,0), 1, cv2.LINE_AA)\n",
    "                    cv2.putText(display, 'circularity: {:.2f}'.format(4*np.pi*cv2.contourArea(cnt[0])/(cv2.arcLength(cnt[0], True)**2)), (10, 140), font, 0.5, (0,0,0), 1, cv2.LINE_AA)\n",
    "                    cv2.putText(display, 'aspect_ratio: {:.2f}'.format(max(d1,d2)/min(d1,d2)), (10, 160), font, 0.5, (0,0,0), 1, cv2.LINE_AA)\n",
    "                    cv2.putText(display, 'roundness: {:.2f}'.format(4*cv2.contourArea(cnt[0])/(np.pi*max(d1,d2)**2)), (10, 180), font, 0.5, (0,0,0), 1, cv2.LINE_AA)\n",
    "                    cv2.putText(display, 'solidity: {:.2f}'.format(cv2.contourArea(cnt[0])/cv2.contourArea(cv2.convexHull(cnt[0]))), (10, 200), font, 0.5, (0,0,0), 1, cv2.LINE_AA)\n",
    "                    \n",
    "                    cv2.imshow('frame', display)\n",
    "                    if cv2.waitKey(display_velocity) & 0xFF == ord('q'):\n",
    "                         cv2.destroyAllWindows()\n",
    "                         break\n",
    "\n",
    "            frame_count += 1\n",
    "            if not (frame_count % 1000):\n",
    "                print(frame_count)\n",
    "                \n",
    "    cv2.destroyAllWindows()\n",
    "    cap.release()\n",
    "    return table\n"
   ]
  },
  {
   "cell_type": "code",
   "execution_count": 257,
   "metadata": {},
   "outputs": [
    {
     "name": "stdout",
     "output_type": "stream",
     "text": [
      "1000\n",
      "2000\n",
      "3000\n",
      "4000\n",
      "5000\n",
      "6000\n",
      "7000\n",
      "8000\n",
      "9000\n",
      "10000\n",
      "11000\n",
      "12000\n",
      "13000\n",
      "14000\n",
      "15000\n",
      "16000\n",
      "17000\n",
      "18000\n",
      "19000\n"
     ]
    }
   ],
   "source": [
    "data_CellA_GFP= process_video(CellA_GFP)"
   ]
  },
  {
   "cell_type": "code",
   "execution_count": 258,
   "metadata": {},
   "outputs": [],
   "source": [
    "data_CellA_GFP.to_csv('data_CellA_GFP.csv')"
   ]
  },
  {
   "cell_type": "code",
   "execution_count": 253,
   "metadata": {},
   "outputs": [
    {
     "name": "stdout",
     "output_type": "stream",
     "text": [
      "1000\n",
      "2000\n",
      "3000\n",
      "4000\n"
     ]
    }
   ],
   "source": [
    "data_CellA_ShME480 = process_video(CellA_ShME480)"
   ]
  },
  {
   "cell_type": "code",
   "execution_count": 255,
   "metadata": {},
   "outputs": [],
   "source": [
    "data_CellA_ShME480.to_csv('data_CellA_ShME480.csv')"
   ]
  },
  {
   "cell_type": "code",
   "execution_count": 259,
   "metadata": {},
   "outputs": [
    {
     "name": "stdout",
     "output_type": "stream",
     "text": [
      "1000\n",
      "2000\n",
      "3000\n",
      "4000\n",
      "5000\n",
      "6000\n",
      "7000\n"
     ]
    }
   ],
   "source": [
    "data_CellB_GFP = process_video(CellB_GFP)"
   ]
  },
  {
   "cell_type": "code",
   "execution_count": 260,
   "metadata": {},
   "outputs": [],
   "source": [
    "data_CellB_GFP.to_csv('data_CellB_GFP.csv')"
   ]
  },
  {
   "cell_type": "code",
   "execution_count": 262,
   "metadata": {},
   "outputs": [
    {
     "name": "stdout",
     "output_type": "stream",
     "text": [
      "1000\n",
      "2000\n",
      "3000\n",
      "4000\n"
     ]
    }
   ],
   "source": [
    "data_CellB_ME480 = process_video(CellB_ME480) # TUNE PARAMETERS"
   ]
  },
  {
   "cell_type": "code",
   "execution_count": 263,
   "metadata": {},
   "outputs": [],
   "source": [
    "data_CellB_ME480.to_csv('data_CellB_ME480.csv')"
   ]
  }
 ],
 "metadata": {
  "kernelspec": {
   "display_name": "mechanobiology",
   "language": "python",
   "name": "python3"
  },
  "language_info": {
   "codemirror_mode": {
    "name": "ipython",
    "version": 3
   },
   "file_extension": ".py",
   "mimetype": "text/x-python",
   "name": "python",
   "nbconvert_exporter": "python",
   "pygments_lexer": "ipython3",
   "version": "3.12.0"
  }
 },
 "nbformat": 4,
 "nbformat_minor": 2
}
